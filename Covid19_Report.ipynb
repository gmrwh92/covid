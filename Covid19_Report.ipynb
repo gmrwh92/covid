{
  "cells": [
    {
      "cell_type": "markdown",
      "metadata": {
        "id": "G3NNhYZFdK35"
      },
      "source": [
        "# Analysing COVID-19 Data"
      ]
    },
    {
      "cell_type": "markdown",
      "metadata": {
        "id": "ZOJOu_TndK38"
      },
      "source": [
        "# Introduction\n",
        "\n",
        "In this portfolio, we are going to explore the global number of COVID-19.\n",
        "\n",
        "Main Goal\n",
        "* Comparing some countries based on their total confirmed COVID-19 cases\n",
        " - This is to see the total number number of confirmed cases in each countries.\n",
        "* Comparing some countries after normalisaion\n",
        " - Larger countries have significantly larger populations compared to smaller countries; this factor is being considered in the calculation of confirmed cases per every 10 people.\n",
        "* Build a model for prediction\n",
        "  - ARIMA (statistical method for prediction based on historical time series) and LSTM (neural network for time series data prediction).\n",
        "\n"
      ]
    },
    {
      "cell_type": "code",
      "execution_count": null,
      "metadata": {
        "colab": {
          "base_uri": "https://localhost:8080/"
        },
        "id": "XTzQRb6vzU1h",
        "outputId": "894660e9-f738-473f-bf04-7637e47a7612"
      },
      "outputs": [
        {
          "name": "stdout",
          "output_type": "stream",
          "text": [
            "Requirement already satisfied: pmdarima in /usr/local/lib/python3.10/dist-packages (2.0.3)\n",
            "Requirement already satisfied: joblib>=0.11 in /usr/local/lib/python3.10/dist-packages (from pmdarima) (1.3.2)\n",
            "Requirement already satisfied: Cython!=0.29.18,!=0.29.31,>=0.29 in /usr/local/lib/python3.10/dist-packages (from pmdarima) (3.0.2)\n",
            "Requirement already satisfied: numpy>=1.21.2 in /usr/local/lib/python3.10/dist-packages (from pmdarima) (1.23.5)\n",
            "Requirement already satisfied: pandas>=0.19 in /usr/local/lib/python3.10/dist-packages (from pmdarima) (1.5.3)\n",
            "Requirement already satisfied: scikit-learn>=0.22 in /usr/local/lib/python3.10/dist-packages (from pmdarima) (1.2.2)\n",
            "Requirement already satisfied: scipy>=1.3.2 in /usr/local/lib/python3.10/dist-packages (from pmdarima) (1.11.2)\n",
            "Requirement already satisfied: statsmodels>=0.13.2 in /usr/local/lib/python3.10/dist-packages (from pmdarima) (0.14.0)\n",
            "Requirement already satisfied: urllib3 in /usr/local/lib/python3.10/dist-packages (from pmdarima) (2.0.4)\n",
            "Requirement already satisfied: setuptools!=50.0.0,>=38.6.0 in /usr/local/lib/python3.10/dist-packages (from pmdarima) (67.7.2)\n",
            "Requirement already satisfied: python-dateutil>=2.8.1 in /usr/local/lib/python3.10/dist-packages (from pandas>=0.19->pmdarima) (2.8.2)\n",
            "Requirement already satisfied: pytz>=2020.1 in /usr/local/lib/python3.10/dist-packages (from pandas>=0.19->pmdarima) (2023.3.post1)\n",
            "Requirement already satisfied: threadpoolctl>=2.0.0 in /usr/local/lib/python3.10/dist-packages (from scikit-learn>=0.22->pmdarima) (3.2.0)\n",
            "Requirement already satisfied: patsy>=0.5.2 in /usr/local/lib/python3.10/dist-packages (from statsmodels>=0.13.2->pmdarima) (0.5.3)\n",
            "Requirement already satisfied: packaging>=21.3 in /usr/local/lib/python3.10/dist-packages (from statsmodels>=0.13.2->pmdarima) (23.1)\n",
            "Requirement already satisfied: six in /usr/local/lib/python3.10/dist-packages (from patsy>=0.5.2->statsmodels>=0.13.2->pmdarima) (1.16.0)\n"
          ]
        }
      ],
      "source": [
        "!pip install pmdarima"
      ]
    },
    {
      "cell_type": "code",
      "execution_count": null,
      "metadata": {
        "id": "0HmIZ2WxnVYT"
      },
      "outputs": [],
      "source": [
        "## importing libraries\n",
        "import pandas as pd\n",
        "import numpy as np\n",
        "import seaborn as sns\n",
        "import matplotlib.pyplot as plt\n",
        "import os\n",
        "import torch\n",
        "from tqdm import tqdm\n",
        "from pylab import rcParams\n",
        "import matplotlib.dates as mdates\n",
        "from matplotlib import rc\n",
        "from sklearn.preprocessing import MinMaxScaler\n",
        "from pandas.plotting import register_matplotlib_converters\n",
        "from torch import nn, optim\n",
        "from statsmodels.tsa.seasonal import seasonal_decompose\n",
        "import matplotlib.pyplot as plt\n",
        "from statsmodels.graphics.tsaplots import plot_acf, plot_pacf\n",
        "from statsmodels.tsa.stattools import adfuller\n",
        "from statsmodels.tsa.arima.model import ARIMA\n",
        "from pandas import datetime\n",
        "from pmdarima.arima import auto_arima\n",
        "\n",
        "%matplotlib inline\n",
        "%config InlineBackend.figure_format='retina'\n",
        "\n",
        "sns.set(style='whitegrid', palette='muted', font_scale=1.2)\n",
        "\n",
        "HAPPY_COLORS_PALETTE = [\"#01BEFE\", \"#FFDD00\", \"#FF7D00\", \"#FF006D\", \"#93D30C\", \"#8F00FF\"]\n",
        "\n",
        "sns.set_palette(sns.color_palette(HAPPY_COLORS_PALETTE))\n",
        "\n",
        "register_matplotlib_converters()\n",
        "\n",
        "RANDOM_SEED = 42\n",
        "np.random.seed(RANDOM_SEED)\n",
        "torch.manual_seed(RANDOM_SEED)"
      ]
    },
    {
      "cell_type": "markdown",
      "metadata": {
        "id": "1gkukSm3dK38"
      },
      "source": [
        "## Dataset for Covid\n",
        "\n",
        "Johns Hopkins University provides an open dataset that includes data on confirmed cases, deaths, and recovered cases. However, our focus is solely on the confirmed cases. The data is structured with one row per region, featuring columns for Latitude and Longitude, followed by separate columns for each day's data. This dataset has been collected since January 22, 2020, and is continuously updated.\n"
      ]
    },
    {
      "cell_type": "code",
      "execution_count": null,
      "metadata": {
        "id": "4LTuYMmFdK39"
      },
      "outputs": [],
      "source": [
        "# load the live dataset,\n",
        "covid_data_url = 'https://github.com/CSSEGISandData/COVID-19/raw/master/csse_covid_19_data/csse_covid_19_time_series/time_series_covid19_confirmed_global.csv'\n",
        "covid = pd.read_csv(covid_data_url)\n",
        "covid"
      ]
    },
    {
      "cell_type": "code",
      "execution_count": null,
      "metadata": {
        "id": "HDHjOuoZdK3-"
      },
      "outputs": [],
      "source": [
        "## group our dataset by country and drop some variables that are not related to our analysis\n",
        "grouped = covid.groupby('Country/Region').sum()\n",
        "grouped = grouped.drop(columns=['Lat', 'Long'])\n",
        "grouped"
      ]
    },
    {
      "cell_type": "markdown",
      "metadata": {
        "id": "Zv1iy2DHdK3-"
      },
      "source": [
        "## Comparing countries"
      ]
    },
    {
      "cell_type": "markdown",
      "metadata": {
        "id": "qMYUOL1odK3_"
      },
      "source": [
        "* Comparing some random countries"
      ]
    },
    {
      "cell_type": "code",
      "execution_count": null,
      "metadata": {
        "id": "ba_laX29dK3_"
      },
      "outputs": [],
      "source": [
        "## Produce a plot for \"Australia\", \"US\", \"China\", \"Korea\" and \"United Kingdom\"\n",
        "aa = grouped.loc[[\"Australia\",\"US\",\"China\",\"Korea, South\", \"United Kingdom\"]]\n",
        "aa.T.plot()"
      ]
    },
    {
      "cell_type": "markdown",
      "metadata": {
        "id": "-cHiJf75dK3_"
      },
      "source": [
        "* Top 10 countries"
      ]
    },
    {
      "cell_type": "code",
      "execution_count": null,
      "metadata": {
        "id": "kds9jZUcdK4D"
      },
      "outputs": [],
      "source": [
        "## Find top 10 countries\n",
        "top = grouped.iloc[:,-1]\n",
        "topp = top.nlargest(10)\n",
        "display(topp)"
      ]
    },
    {
      "cell_type": "code",
      "execution_count": null,
      "metadata": {
        "id": "LGrBOQjDdK4E"
      },
      "outputs": [],
      "source": [
        "## Plot for top 10 countries\n",
        "toppp = grouped.loc[[\"US\",\"India\",\"France\", \"Germany\", \"Brazil\", \"Japan\", \"Korea, South\", \"Italy\",\"United Kingdom\", \"Russia\"]]\n",
        "toppp.T.plot()"
      ]
    },
    {
      "cell_type": "markdown",
      "metadata": {
        "id": "LtCiL_rzdK4E"
      },
      "source": [
        "* Least 10 Countries"
      ]
    },
    {
      "cell_type": "code",
      "execution_count": null,
      "metadata": {
        "id": "LLVVFRDj6e1V"
      },
      "outputs": [],
      "source": [
        "## Find least 10 countries and make a plot\n",
        "small = grouped.iloc[:,-1]\n",
        "smalll = small.nsmallest(10)\n",
        "display(smalll)"
      ]
    },
    {
      "cell_type": "code",
      "execution_count": null,
      "metadata": {
        "id": "yMU039im-P1M"
      },
      "outputs": [],
      "source": [
        "## Plot for least 10 countries\n",
        "smallll = grouped.loc[[\"Korea, North\",\"MS Zaandam\",\"Antarctica\", \"Holy See\", \"Diamond Princess\", \"Tuvalu\", \"Kiribati\", \"Nauru\"]]\n",
        "smallll.T.plot()"
      ]
    },
    {
      "cell_type": "markdown",
      "metadata": {
        "id": "C641or7edK4F"
      },
      "source": [
        "## Dataset for population\n",
        "\n",
        "We obtained an open dataset from datahub.io containing population figures for various countries. This dataset covers the overall population of each country and spans from 1960 to 2016. In our COVID dataset, we have data for 186 countries, while the population dataset includes information on 263 countries. To ensure consistency, we manually adjusted the country names in our population dataset to match those in our COVID dataset. For instance, 'US' was changed to 'United States' to facilitate data compatibility between the two sets."
      ]
    },
    {
      "cell_type": "code",
      "execution_count": null,
      "metadata": {
        "id": "CcTforl7dK4F"
      },
      "outputs": [],
      "source": [
        "## Read population dataset\n",
        "population = pd.read_csv(\"population.csv\", encoding = \"ISO-8859-1\")\n",
        "population.head()"
      ]
    },
    {
      "cell_type": "code",
      "execution_count": null,
      "metadata": {
        "id": "-AWtHjUcdK4F"
      },
      "outputs": [],
      "source": [
        "## Get Country name and population in 2016 only\n",
        "pop = population[['Country','Year_2016']]\n",
        "\n",
        "## Change column name to merge with our covid dataset\n",
        "popp = pop.rename(columns={\"Country\" : \"Country/Region\"})\n",
        "poppp = popp.groupby('Country/Region').sum()\n",
        "\n",
        "## Merge population and covid dataset\n",
        "npp = pd.merge(poppp,grouped, how = 'inner', left_index=True, right_index=True)\n",
        "npp.head()"
      ]
    },
    {
      "cell_type": "code",
      "execution_count": null,
      "metadata": {
        "id": "J7-e_thedK4G"
      },
      "outputs": [],
      "source": [
        "## Calculate confirmed cases per 10\n",
        "npp = npp.iloc[:,-1]/npp['Year_2016'] * 10\n",
        "npp"
      ]
    },
    {
      "cell_type": "markdown",
      "metadata": {
        "id": "7lAD_5LSdK4G"
      },
      "source": [
        "* Top 10 countries"
      ]
    },
    {
      "cell_type": "code",
      "execution_count": null,
      "metadata": {
        "id": "L1AZgee3dK4G"
      },
      "outputs": [],
      "source": [
        "## Find top 10 countries and plot\n",
        "nptop = npp.nlargest(10)\n",
        "plt.barh(nptop.index,nptop)"
      ]
    },
    {
      "cell_type": "markdown",
      "metadata": {
        "id": "kVayviVQdK4G"
      },
      "source": [
        "* Least 10 countries"
      ]
    },
    {
      "cell_type": "code",
      "execution_count": null,
      "metadata": {
        "colab": {
          "background_save": true
        },
        "id": "CBQpemeydK4H",
        "outputId": "7bbf3299-b246-46f7-e11b-e04d31f38d01"
      },
      "outputs": [
        {
          "ename": "AttributeError",
          "evalue": "ignored",
          "output_type": "error",
          "traceback": [
            "\u001b[0;31m---------------------------------------------------------------------------\u001b[0m",
            "\u001b[0;31mAttributeError\u001b[0m                            Traceback (most recent call last)",
            "\u001b[0;32m<ipython-input-14-ee429c53fe1d>\u001b[0m in \u001b[0;36m<cell line: 2>\u001b[0;34m()\u001b[0m\n\u001b[1;32m      1\u001b[0m \u001b[0;31m## Find least 10 countries and plot\u001b[0m\u001b[0;34m\u001b[0m\u001b[0;34m\u001b[0m\u001b[0m\n\u001b[0;32m----> 2\u001b[0;31m \u001b[0mnpsmall\u001b[0m \u001b[0;34m=\u001b[0m \u001b[0mnp\u001b[0m\u001b[0;34m.\u001b[0m\u001b[0mnsmallest\u001b[0m\u001b[0;34m(\u001b[0m\u001b[0;36m10\u001b[0m\u001b[0;34m)\u001b[0m\u001b[0;34m\u001b[0m\u001b[0;34m\u001b[0m\u001b[0m\n\u001b[0m\u001b[1;32m      3\u001b[0m \u001b[0mplt\u001b[0m\u001b[0;34m.\u001b[0m\u001b[0mbarh\u001b[0m\u001b[0;34m(\u001b[0m\u001b[0mnpsmall\u001b[0m\u001b[0;34m.\u001b[0m\u001b[0mindex\u001b[0m\u001b[0;34m,\u001b[0m\u001b[0mnpsmall\u001b[0m\u001b[0;34m)\u001b[0m\u001b[0;34m\u001b[0m\u001b[0;34m\u001b[0m\u001b[0m\n",
            "\u001b[0;32m/usr/local/lib/python3.10/dist-packages/numpy/__init__.py\u001b[0m in \u001b[0;36m__getattr__\u001b[0;34m(attr)\u001b[0m\n\u001b[1;32m    309\u001b[0m             \u001b[0;32mreturn\u001b[0m \u001b[0mTester\u001b[0m\u001b[0;34m\u001b[0m\u001b[0;34m\u001b[0m\u001b[0m\n\u001b[1;32m    310\u001b[0m \u001b[0;34m\u001b[0m\u001b[0m\n\u001b[0;32m--> 311\u001b[0;31m         raise AttributeError(\"module {!r} has no attribute \"\n\u001b[0m\u001b[1;32m    312\u001b[0m                              \"{!r}\".format(__name__, attr))\n\u001b[1;32m    313\u001b[0m \u001b[0;34m\u001b[0m\u001b[0m\n",
            "\u001b[0;31mAttributeError\u001b[0m: module 'numpy' has no attribute 'nsmallest'"
          ]
        }
      ],
      "source": [
        "## Find least 10 countries and plot\n",
        "npsmall = np.nsmallest(10)\n",
        "plt.barh(npsmall.index,npsmall)"
      ]
    },
    {
      "cell_type": "markdown",
      "metadata": {
        "id": "whsEy0bnnnEY"
      },
      "source": [
        "* We observe that 7 out of every 10 people in San Marino have tested positive for COVID-19. While the US has the highest number of confirmed cases overall, San Marino leads in cases per capita. It's important to note that we cannot definitively conclude whether the US or San Marino has been more severely affected by COVID-19. Nevertheless, this analysis provides a quick insight into the statistics."
      ]
    },
    {
      "cell_type": "markdown",
      "metadata": {
        "id": "yPmhAmLFpJih"
      },
      "source": [
        "# Predictions\n"
      ]
    },
    {
      "cell_type": "markdown",
      "metadata": {
        "id": "weQHPtBV0TIY"
      },
      "source": [
        "### Data pre-processing\n",
        "The live dataset provides cumulative numbers, but our plan is to calculate new daily cases for predictions in Korea. Afterward, we will split these new daily cases into a training set and a test set for validation. The dataset spans 1,146 days, with 90% of the data allocated to the training set. This means we will train the model using data from January 22, 2020, to December 31, 2022. Then, we will validate the model by comparing actual and predicted data from January 1, 2023, to March 9, 2023."
      ]
    },
    {
      "cell_type": "code",
      "execution_count": null,
      "metadata": {
        "colab": {
          "background_save": true
        },
        "id": "YDer0OUps5-5"
      },
      "outputs": [],
      "source": [
        "## Extract the data for Korea\n",
        "grouped = grouped.loc[[\"Korea, South\"]]\n",
        "total_cases = grouped.sum(axis=0)\n",
        "total_cases.index = pd.to_datetime(total_cases.index)\n",
        "total_cases"
      ]
    },
    {
      "cell_type": "code",
      "execution_count": null,
      "metadata": {
        "colab": {
          "background_save": true
        },
        "id": "aN1vTTzrtocm"
      },
      "outputs": [],
      "source": [
        "## total number of cases in Korea since 2020\n",
        "ax = plt.gca()\n",
        "plt.plot(total_cases)\n",
        "ax.xaxis.set_major_locator(mdates.MonthLocator(interval=7))\n",
        "plt.title(\"Total cases in Korea\");"
      ]
    },
    {
      "cell_type": "markdown",
      "metadata": {
        "id": "T7IJzEimVM_h"
      },
      "source": [
        "* We will subtract the number of cases on the current date from those on the previous date to calculate the daily new cases"
      ]
    },
    {
      "cell_type": "code",
      "execution_count": null,
      "metadata": {
        "colab": {
          "background_save": true
        },
        "id": "-mW9ioie9nR8"
      },
      "outputs": [],
      "source": [
        "daily_cases = total_cases.diff().fillna(total_cases[0]).astype(np.int64)\n",
        "daily_cases"
      ]
    },
    {
      "cell_type": "code",
      "execution_count": null,
      "metadata": {
        "colab": {
          "background_save": true
        },
        "id": "q2B9HMpAOe9a"
      },
      "outputs": [],
      "source": [
        "## plot daily cases\n",
        "ax = plt.gca()\n",
        "plt.plot(daily_cases)\n",
        "ax.xaxis.set_major_locator(mdates.MonthLocator(interval=7))\n",
        "plt.title(\"Daily new cases in Korea\");"
      ]
    },
    {
      "cell_type": "markdown",
      "metadata": {
        "id": "5obMDIjZaA4b"
      },
      "source": [
        "* This plot could provide insight into the peak of COVID-19 spread in Korea."
      ]
    },
    {
      "cell_type": "code",
      "execution_count": null,
      "metadata": {
        "colab": {
          "background_save": true
        },
        "id": "DVdDcfOx1IN6"
      },
      "outputs": [],
      "source": [
        "## split data into train and test set\n",
        "daily_cases.index = pd.to_datetime(daily_cases.index)\n",
        "training_set = daily_cases[:'2022']\n",
        "test_set = daily_cases['2023':]"
      ]
    },
    {
      "cell_type": "markdown",
      "metadata": {
        "id": "zxsYVCWAmLAE"
      },
      "source": [
        "## ARIMA Model"
      ]
    },
    {
      "cell_type": "markdown",
      "metadata": {
        "id": "c269-QTysDB7"
      },
      "source": [
        "* Test for Stationarity before building ARIMA"
      ]
    },
    {
      "cell_type": "code",
      "execution_count": null,
      "metadata": {
        "colab": {
          "background_save": true
        },
        "id": "hq5o43UUEk8y"
      },
      "outputs": [],
      "source": [
        "## Autocorrelation Function (ACF) and Partial Autorreclation Function (PACF)\n",
        "plot_acf(daily_cases)\n",
        "plot_pacf(daily_cases)\n",
        "plt.show()"
      ]
    },
    {
      "cell_type": "code",
      "execution_count": null,
      "metadata": {
        "colab": {
          "background_save": true
        },
        "id": "M37MroRBjeuI"
      },
      "outputs": [],
      "source": [
        "## Augmented Dicky-Fullter Test\n",
        "result = adfuller(daily_cases)\n",
        "\n",
        "print('ADF statistics: %f' % result[0])\n",
        "print('p-value %f' % result[1])\n",
        "print('Critical values')\n",
        "for key, value in result[4].items():\n",
        "  print('\\t%s: %3f' % (key,value))"
      ]
    },
    {
      "cell_type": "markdown",
      "metadata": {
        "id": "AvPOnQjfpbRD"
      },
      "source": [
        "* All ACF, PACF, and ADF tests indicate that our dataset is stationary. ACF values drop off quickly, PACF values approach 0, and the p-value from the ADF test is less than 0.05. These results collectively confirm the stationarity of the time series in this dataset."
      ]
    },
    {
      "cell_type": "code",
      "execution_count": null,
      "metadata": {
        "colab": {
          "background_save": true
        },
        "id": "oRgq3qxQlhy6"
      },
      "outputs": [],
      "source": [
        "## find the optimal p(AR specification), d(Integer order), q(MA specification)\n",
        "model = auto_arima(daily_cases, start_p=1, start_q=1,\n",
        "                      test='adf',\n",
        "                      max_p=5, max_q=5,\n",
        "                      m=1,\n",
        "                      d=1,\n",
        "                      seasonal=False,\n",
        "                      start_P=0,\n",
        "                      D=None,\n",
        "                      trace=True,\n",
        "                      error_action='ignore',\n",
        "                      suppress_warnings=True,\n",
        "                      stepwise=True)"
      ]
    },
    {
      "cell_type": "markdown",
      "metadata": {
        "id": "1nS_BIU3sNZp"
      },
      "source": [
        "* Fit model\n"
      ]
    },
    {
      "cell_type": "code",
      "execution_count": null,
      "metadata": {
        "colab": {
          "background_save": true
        },
        "id": "2DoZrbkzcU6o"
      },
      "outputs": [],
      "source": [
        "## we fit a model, p(AR specification) = 5, d(Integer order) = 1, q(MA specification) = 4 based on best model selection\n",
        "model = ARIMA(daily_cases, order=(5,1,4))\n",
        "model_fit = model.fit()\n",
        "\n",
        "## set up the date period we want to forecast\n",
        "start_index = datetime(2023, 1, 1)\n",
        "end_index = datetime(2023, 3, 9)\n",
        "forecast = model_fit.predict(start = start_index, end=end_index, typ='levels')"
      ]
    },
    {
      "cell_type": "code",
      "execution_count": null,
      "metadata": {
        "colab": {
          "background_save": true
        },
        "id": "j2gRSQYYe8YD"
      },
      "outputs": [],
      "source": [
        "forecast.head(15)"
      ]
    },
    {
      "cell_type": "code",
      "execution_count": null,
      "metadata": {
        "colab": {
          "background_save": true
        },
        "id": "GljCi1Mztu7v"
      },
      "outputs": [],
      "source": [
        "test_set.head(15)"
      ]
    },
    {
      "cell_type": "code",
      "execution_count": null,
      "metadata": {
        "colab": {
          "background_save": true
        },
        "id": "icIaVc-Ru6Nb"
      },
      "outputs": [],
      "source": [
        "##plot the original data vs predicted data\n",
        "plt.figure(figsize=(22,8))\n",
        "plt.plot(test_set, label=\"original\")\n",
        "plt.plot(forecast,label = \"predicted\")\n",
        "plt.title(\"Covid Forecast\")\n",
        "plt.xlabel(\"Date\")\n",
        "plt.ylabel(\"Daily new cases\")\n",
        "plt.legend()\n",
        "plt.show()"
      ]
    },
    {
      "cell_type": "markdown",
      "metadata": {
        "id": "EHCyGwdTxJn0"
      },
      "source": [
        "## LSTM (Long Short-Term Memory), Deep Learning"
      ]
    },
    {
      "cell_type": "code",
      "execution_count": null,
      "metadata": {
        "colab": {
          "background_save": true
        },
        "id": "vDVoOtD6rmqs"
      },
      "outputs": [],
      "source": [
        "\n",
        "scaler = MinMaxScaler()\n",
        "\n",
        "scaler = scaler.fit(np.expand_dims(training_set, axis=1))\n",
        "\n",
        "train_data = scaler.transform(np.expand_dims(training_set, axis=1))\n",
        "\n",
        "test_data = scaler.transform(np.expand_dims(test_set, axis=1))"
      ]
    },
    {
      "cell_type": "code",
      "execution_count": null,
      "metadata": {
        "colab": {
          "background_save": true
        },
        "id": "1KUK0zmAqYhK"
      },
      "outputs": [],
      "source": [
        "def create_sequences(data, seq_length):\n",
        "    xs = []\n",
        "    ys = []\n",
        "    for i in range(len(data)-seq_length):\n",
        "        x = data.iloc[i:(i+seq_length)]\n",
        "        y = data.iloc[i+seq_length]\n",
        "        xs.append(x)\n",
        "        ys.append(y)\n",
        "    return np.array(xs), np.array(ys)"
      ]
    },
    {
      "cell_type": "code",
      "execution_count": null,
      "metadata": {
        "colab": {
          "background_save": true
        },
        "id": "63pbg5uoqv5A"
      },
      "outputs": [],
      "source": [
        "seq_length = 5\n",
        "X, y = create_sequences(daily_cases, seq_length)"
      ]
    }
  ],
  "metadata": {
    "colab": {
      "provenance": []
    },
    "kernelspec": {
      "display_name": "Python 3",
      "language": "python",
      "name": "python3"
    },
    "language_info": {
      "codemirror_mode": {
        "name": "ipython",
        "version": 3
      },
      "file_extension": ".py",
      "mimetype": "text/x-python",
      "name": "python",
      "nbconvert_exporter": "python",
      "pygments_lexer": "ipython3",
      "version": "3.7.4"
    }
  },
  "nbformat": 4,
  "nbformat_minor": 0
}